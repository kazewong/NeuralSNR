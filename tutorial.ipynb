{
 "cells": [
  {
   "cell_type": "markdown",
   "metadata": {},
   "source": [
    "# Importing relevent packages"
   ]
  },
  {
   "cell_type": "code",
   "execution_count": 2,
   "metadata": {},
   "outputs": [],
   "source": [
    "import numpy as np\n",
    "import matplotlib.pyplot as plt\n",
    "import torch\n",
    "import h5py\n",
    "from astropy.cosmology import Planck15 \n",
    "from scipy.interpolate import interp1d\n",
    "import matplotlib.colors as colors\n",
    "import os\n",
    "%matplotlib inline"
   ]
  },
  {
   "cell_type": "markdown",
   "metadata": {},
   "source": [
    "# Generating a simple population of binaries"
   ]
  },
  {
   "cell_type": "code",
   "execution_count": 15,
   "metadata": {},
   "outputs": [],
   "source": [
    "def inverse_transform_sampling(bins,pdf,nSamples = 10000):\n",
    "    cumValue = np.zeros(bins.shape)\n",
    "    cumValue[1:] = np.cumsum(pdf[1:]*np.diff(bins))\n",
    "    cumValue /= cumValue.max()\n",
    "    inv_cdf = interp1d(cumValue,bins)\n",
    "    r = np.random.rand(nSamples)\n",
    "    return inv_cdf(r)\n",
    "\n",
    "def M1_distribution(m1,index,mmin=5,mmax=50):\n",
    "    try:\n",
    "        output = m1.copy()\n",
    "        index_in = np.where((m1>=mmin)*(m1<=mmax))[0]\n",
    "        index_out = np.where((m1<mmin)+(m1>mmax))[0]\n",
    "        normalization = ((mmax)**(1+index)-mmin**(1+index))/(1+index)\n",
    "        output[index_out] = 1e-30\n",
    "        output[index_in] = m1[index_in]**index/normalization\n",
    "    except ZeroDivisionError:\n",
    "        output = m1.copy()\n",
    "        index_in = np.where((m1>=mmin)*(m1<=mmax))[0]\n",
    "        index_out = np.where((m1<mmin)+(m1>mmax))[0]\n",
    "        normalization = np.log(mmax)-np.log(mmin)\n",
    "        output[index_out] = 1e-30\n",
    "        output[index_in] = m1[index_in]**index/normalization\n",
    "    return output"
   ]
  },
  {
   "cell_type": "code",
   "execution_count": 59,
   "metadata": {},
   "outputs": [],
   "source": [
    "N_sample = 100000\n",
    "M_axis = np.linspace(5,50,10000)\n",
    "q_axis = np.linspace(1e-4,1,10000)\n",
    "z_axis = np.linspace(0,1,10000)\n",
    "DV = Planck15.differential_comoving_volume(z_axis).value\n",
    "m1 = inverse_transform_sampling(M_axis,M1_distribution(M_axis,-2,mmin=5,mmax=50),N_sample)\n",
    "q =  inverse_transform_sampling(q_axis,M1_distribution(q_axis,2,mmin=0,mmax=1),N_sample)\n",
    "chi1 = np.random.uniform(-1,1,N_sample)\n",
    "chi2 = np.random.uniform(-1,1,N_sample)\n",
    "z = inverse_transform_sampling(z_axis,DV,N_sample)\n",
    "#np.savetxt('PowerLaw.txt',np.array([m1,m1*q,chi1,chi2,z]).T)"
   ]
  },
  {
   "cell_type": "markdown",
   "metadata": {},
   "source": [
    "# importing one of the pre-trained model"
   ]
  },
  {
   "cell_type": "code",
   "execution_count": 64,
   "metadata": {},
   "outputs": [],
   "source": [
    "# Importing pre-trained model\n",
    "model = torch.jit.load('./network/AplusDesign_IMRPhenomD.network',map_location='cpu')\n",
    "\n",
    "# Creating detection function interpolant\n",
    "P_omega_data = np.genfromtxt('./data/Pw_single.dat').T\n",
    "P_omega = interp1d(P_omega_data[0],P_omega_data[1],bounds_error=False,fill_value=(1,0))\n",
    "\n",
    "# We also create a simple interpolant to spped up the conversion from redshift to luminosity distance\n",
    "z_axis = np.linspace(0,10,10000)\n",
    "d_axis = Planck15.luminosity_distance(z_axis).value\n",
    "dL_interp = interp1d(z_axis,d_axis)\n",
    "data = torch.from_numpy(np.array([m1,q,chi1,chi2,z]).T).float()"
   ]
  },
  {
   "cell_type": "markdown",
   "metadata": {},
   "source": [
    "# Defining helper functions to get SNR, pdet and select a detected population"
   ]
  },
  {
   "cell_type": "code",
   "execution_count": 65,
   "metadata": {},
   "outputs": [],
   "source": [
    "@torch.no_grad()\n",
    "def get_SNR(M1qs1s2,z):\n",
    "    dL = dL_interp(z)\n",
    "    return model(M1qs1s2)[:,0].numpy()*100/dL\n",
    "\n",
    "@torch.no_grad()\n",
    "def get_pdet(M1qs1s2,z,threshold=8):\n",
    "    snr = get_SNR(M1qs1s2,z)\n",
    "    return P_omega(threshold/snr)\n",
    "\n",
    "@torch.no_grad()\n",
    "def get_detect(M1qs1s2,z,threshold=8):\n",
    "    total_size = M1qs1s2.shape[0]\n",
    "    snr = get_SNR(M1qs1s2,z)\n",
    "    pdet = P_omega(threshold/snr)\n",
    "    detect_size = np.sum(pdet[snr>threshold])\n",
    "    return M1qs1s2[snr>threshold],detect_size/total_size\n",
    "    "
   ]
  },
  {
   "cell_type": "code",
   "execution_count": 67,
   "metadata": {},
   "outputs": [
    {
     "name": "stdout",
     "output_type": "stream",
     "text": [
      "CPU times: user 984 ms, sys: 520 ms, total: 1.5 s\n",
      "Wall time: 496 ms\n"
     ]
    }
   ],
   "source": [
    "%time detect = get_detect(data[:,:4],data[:,-1],8)"
   ]
  },
  {
   "cell_type": "markdown",
   "metadata": {},
   "source": [
    "# Plotting the results"
   ]
  },
  {
   "cell_type": "code",
   "execution_count": 70,
   "metadata": {},
   "outputs": [
    {
     "data": {
      "text/plain": [
       "<matplotlib.legend.Legend at 0x7faa0d842d68>"
      ]
     },
     "execution_count": 70,
     "metadata": {},
     "output_type": "execute_result"
    },
    {
     "data": {
      "image/png": "[encoded data removed]",
      "text/plain": [
       "<Figure size 360x360 with 1 Axes>"
      ]
     },
     "metadata": {
      "needs_background": "light"
     },
     "output_type": "display_data"
    }
   ],
   "source": [
    "fig = plt.figure(figsize=(5,5))\n",
    "plt.hist(data.T[0],histtype='step',lw=3,label='Intrinsic')\n",
    "plt.hist(detect[0].T[0],histtype='step',lw=3,ls='--',label='Detected')\n",
    "plt.xlabel(r'$M_1\\ [M_{\\odot}]$')\n",
    "plt.ylabel(r'$p(M_1)$')\n",
    "plt.legend(loc='upper right')"
   ]
  },
  {
   "cell_type": "code",
   "execution_count": null,
   "metadata": {},
   "outputs": [],
   "source": []
  }
 ],
 "metadata": {
  "kernelspec": {
   "display_name": "ML",
   "language": "python",
   "name": "ml"
  },
  "language_info": {
   "codemirror_mode": {
    "name": "ipython",
    "version": 3
   },
   "file_extension": ".py",
   "mimetype": "text/x-python",
   "name": "python",
   "nbconvert_exporter": "python",
   "pygments_lexer": "ipython3",
   "version": "3.6.4"
  }
 },
 "nbformat": 4,
 "nbformat_minor": 2
}
