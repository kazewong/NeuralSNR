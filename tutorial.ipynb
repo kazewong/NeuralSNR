{
 "cells": [
  {
   "cell_type": "code",
   "execution_count": 3,
   "metadata": {},
   "outputs": [],
   "source": [
    "import numpy as np\n",
    "import matplotlib.pyplot as plt\n",
    "import torch\n",
    "import h5py\n",
    "from astropy.cosmology import Planck15 \n",
    "from scipy.interpolate import interp1d\n",
    "import matplotlib.colors as colors\n",
    "import os\n",
    "%matplotlib inline"
   ]
  },
  {
   "cell_type": "code",
   "execution_count": 4,
   "metadata": {},
   "outputs": [],
   "source": [
    "def inverse_transform_sampling(bins,pdf,nSamples = 10000):\n",
    "    cumValue = np.zeros(bins.shape)\n",
    "    cumValue[1:] = np.cumsum(pdf[1:]*np.diff(bins))\n",
    "    cumValue /= cumValue.max()\n",
    "    inv_cdf = interp1d(cumValue,bins)\n",
    "    r = np.random.rand(nSamples)\n",
    "    return inv_cdf(r)\n",
    "\n",
    "def M1_distribution(m1,index,mmin=5,mmax=50):\n",
    "    try:\n",
    "        output = m1.copy()\n",
    "        index_in = np.where((m1>=mmin)*(m1<=mmax))[0]\n",
    "        index_out = np.where((m1<mmin)+(m1>mmax))[0]\n",
    "        normalization = ((mmax)**(1+index)-mmin**(1+index))/(1+index)\n",
    "        output[index_out] = 1e-30\n",
    "        output[index_in] = m1[index_in]**index/normalization\n",
    "    except ZeroDivisionError:\n",
    "        output = m1.copy()\n",
    "        index_in = np.where((m1>=mmin)*(m1<=mmax))[0]\n",
    "        index_out = np.where((m1<mmin)+(m1>mmax))[0]\n",
    "        normalization = np.log(mmax)-np.log(mmin)\n",
    "        output[index_out] = 1e-30\n",
    "        output[index_in] = m1[index_in]**index/normalization\n",
    "    return output"
   ]
  },
  {
   "cell_type": "code",
   "execution_count": 5,
   "metadata": {},
   "outputs": [],
   "source": [
    "N_sample = 100000\n",
    "M_axis = np.linspace(5,50,10000)\n",
    "q_axis = np.linspace(1e-4,1,10000)\n",
    "z_axis = np.linspace(0,1,10000)\n",
    "DV = Planck15.differential_comoving_volume(z_axis).value\n",
    "m1 = inverse_transform_sampling(M_axis,M1_distribution(M_axis,-2,mmin=5,mmax=50),N_sample)\n",
    "q =  inverse_transform_sampling(q_axis,M1_distribution(q_axis,2,mmin=0,mmax=1),N_sample)\n",
    "chi1 = np.random.uniform(-1,1,N_sample)\n",
    "chi2 = np.random.uniform(-1,1,N_sample)\n",
    "z = inverse_transform_sampling(z_axis,DV,N_sample)\n",
    "#np.savetxt('PowerLaw.txt',np.array([m1,m1*q,chi1,chi2,z]).T)"
   ]
  },
  {
   "cell_type": "code",
   "execution_count": 7,
   "metadata": {},
   "outputs": [],
   "source": [
    "model = torch.jit.load('./network/AplusDesign_IMRPhenomD.network',map_location='cpu')\n",
    "P_omega_data = np.genfromtxt('./data/Pw_single.dat').T\n",
    "P_omega = interp1d(P_omega_data[0],P_omega_data[1],bounds_error=False,fill_value=(1,0))\n",
    "z_axis = np.linspace(0,10,10000)\n",
    "d_axis = Planck15.luminosity_distance(z_axis).value\n",
    "dL_interp = interp1d(z_axis,d_axis)\n",
    "data = torch.from_numpy(np.array([m1,m1*q,chi1,chi2,z]).T).float()"
   ]
  },
  {
   "cell_type": "code",
   "execution_count": 8,
   "metadata": {},
   "outputs": [],
   "source": [
    "@torch.no_grad()\n",
    "def get_SNR(M1M2s1s2,z):\n",
    "    dL = dL_interp(z)\n",
    "    return model(M1M2s1s2)[:,0].numpy()*100/dL\n",
    "\n",
    "@torch.no_grad()\n",
    "def get_pdet(M1M2s1s2,z,threshold=8):\n",
    "    snr = get_SNR(M1M2s1s2,z)\n",
    "    return P_omega(threshold/snr)\n",
    "\n",
    "@torch.no_grad()\n",
    "def get_detect(M1M2s1s2,z,threshold=8):\n",
    "    total_size = M1M2s1s2.shape[0]\n",
    "    snr = get_SNR(M1M2s1s2,z)\n",
    "    pdet = P_omega(threshold/snr)\n",
    "    detect_size = np.sum(pdet[snr>threshold])\n",
    "    return M1M2s1s2[snr>threshold],detect_size/total_size\n",
    "    "
   ]
  },
  {
   "cell_type": "code",
   "execution_count": 9,
   "metadata": {},
   "outputs": [
    {
     "name": "stdout",
     "output_type": "stream",
     "text": [
      "CPU times: user 27.9 s, sys: 2min 56s, total: 3min 24s\n",
      "Wall time: 1min 3s\n"
     ]
    },
    {
     "data": {
      "text/plain": [
       "array([0.62472831, 0.49147653, 0.29979356, ..., 0.44291149, 0.93309675,\n",
       "       0.89508916])"
      ]
     },
     "execution_count": 9,
     "metadata": {},
     "output_type": "execute_result"
    }
   ],
   "source": [
    "%time get_pdet(data[:,:4],data[:,-1])"
   ]
  },
  {
   "cell_type": "code",
   "execution_count": 11,
   "metadata": {},
   "outputs": [
    {
     "name": "stdout",
     "output_type": "stream",
     "text": [
      "CPU times: user 27.6 s, sys: 10.7 s, total: 38.3 s\n",
      "Wall time: 12.4 s\n"
     ]
    }
   ],
   "source": [
    "%time detect = get_detect(data[:,:4],data[:,-1],50)"
   ]
  },
  {
   "cell_type": "code",
   "execution_count": 11,
   "metadata": {},
   "outputs": [
    {
     "data": {
      "text/plain": [
       "Text(0, 0.5, '$p(M_1)$')"
      ]
     },
     "execution_count": 11,
     "metadata": {},
     "output_type": "execute_result"
    },
    {
     "data": {
      "image/png": "[encoded data removed]",
      "text/plain": [
       "<Figure size 360x360 with 1 Axes>"
      ]
     },
     "metadata": {
      "needs_background": "light"
     },
     "output_type": "display_data"
    }
   ],
   "source": [
    "fig = plt.figure(figsize=(5,5))\n",
    "plt.hist(data.T[0],histtype='step',lw=3)\n",
    "plt.hist(detect[0].T[0],histtype='step',lw=3,ls='--')\n",
    "plt.xlabel(r'$M_1\\ [M_{\\odot}]$')\n",
    "plt.ylabel(r'$p(M_1)$')"
   ]
  },
  {
   "cell_type": "code",
   "execution_count": null,
   "metadata": {},
   "outputs": [],
   "source": []
  }
 ],
 "metadata": {
  "kernelspec": {
   "display_name": "ML",
   "language": "python",
   "name": "ml"
  },
  "language_info": {
   "codemirror_mode": {
    "name": "ipython",
    "version": 3
   },
   "file_extension": ".py",
   "mimetype": "text/x-python",
   "name": "python",
   "nbconvert_exporter": "python",
   "pygments_lexer": "ipython3",
   "version": "3.6.4"
  }
 },
 "nbformat": 4,
 "nbformat_minor": 2
}
